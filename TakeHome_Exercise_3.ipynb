{
 "cells": [
  {
   "cell_type": "markdown",
   "id": "c984cd85",
   "metadata": {},
   "source": [
    "### Numpy questions "
   ]
  },
  {
   "cell_type": "markdown",
   "id": "1924aefb",
   "metadata": {},
   "source": [
    "#### Q1.Define two custom numpy arrays, say A and B. Generate two new numpy arrays by stacking A and B vertically and horizontally."
   ]
  },
  {
   "cell_type": "code",
   "execution_count": 4,
   "id": "7e298525",
   "metadata": {},
   "outputs": [
    {
     "name": "stdout",
     "output_type": "stream",
     "text": [
      "Vertical Stack:\n",
      " [[ 1  2  3  4  5  6  7  8]\n",
      " [ 3  4  5  7  8  9 10 11]\n",
      " [ 3  4  6  8  9 10 11 12]\n",
      " [ 7  8 10 11 12 13 14 15]]\n",
      "Horizontal Stack:\n",
      " [[ 1  2  3  4  5  6  7  8  3  4  6  8  9 10 11 12]\n",
      " [ 3  4  5  7  8  9 10 11  7  8 10 11 12 13 14 15]]\n"
     ]
    }
   ],
   "source": [
    "import numpy as np\n",
    "\n",
    "A = np.array([[1,2,3,4,5,6,7,8],[3, 4,5,7,8,9,10,11]])\n",
    "B = np.array([[3,4,6,8,9,10,11,12],[7,8,10,11,12,13,14,15]])\n",
    "\n",
    "vertical_stacking = np.vstack((A, B))\n",
    "print(\"Vertical Stack:\\n\", vertical_stacking)\n",
    "horizontal_stacking = np.hstack((A, B))\n",
    "print(\"Horizontal Stack:\\n\", horizontal_stacking)\n"
   ]
  },
  {
   "cell_type": "markdown",
   "id": "f80cb525",
   "metadata": {},
   "source": [
    "#### Q2. Find common elements between A and B. [Hint : Intersection of two sets]"
   ]
  },
  {
   "cell_type": "code",
   "execution_count": 6,
   "id": "1bb5b22d",
   "metadata": {},
   "outputs": [
    {
     "name": "stdout",
     "output_type": "stream",
     "text": [
      "Common Elements: [ 3  4  6  7  8  9 10 11]\n"
     ]
    }
   ],
   "source": [
    "common_elements = np.intersect1d(A, B)\n",
    "print(\"Common Elements:\", common_elements)"
   ]
  },
  {
   "cell_type": "markdown",
   "id": "0e2a430e",
   "metadata": {},
   "source": [
    "#### Q3. Extract all numbers from A which are within a specific range. eg between 5 and 10. [Hint: np.where() might be useful or boolean masks]"
   ]
  },
  {
   "cell_type": "code",
   "execution_count": 7,
   "id": "4ff906e1",
   "metadata": {},
   "outputs": [
    {
     "name": "stdout",
     "output_type": "stream",
     "text": [
      "Values between the range: [ 5  6  7  8  5  7  8  9 10]\n"
     ]
    }
   ],
   "source": [
    "indices = np.where((A >= 5) & (A <= 10))\n",
    "\n",
    "extracted_values = A[indices]\n",
    "print(\"Values between the range:\", extracted_values)\n"
   ]
  },
  {
   "cell_type": "markdown",
   "id": "922c0347",
   "metadata": {},
   "source": [
    "#### Q4. Filter the rows of iris_2d that has petallength (3rd column) > 1.5 and sepallength (1st column) < 5.0\n",
    "\turl = 'https://archive.ics.uci.edu/ml/machine-learning-databases/iris/iris.data'\n",
    "\tiris_2d = np.genfromtxt(url, delimiter=',', dtype='float', usecols=[0,1,2,3])\n",
    "\n"
   ]
  },
  {
   "cell_type": "code",
   "execution_count": 8,
   "id": "0219a7c9",
   "metadata": {},
   "outputs": [
    {
     "name": "stdout",
     "output_type": "stream",
     "text": [
      "Filtered Rows:\n",
      " [[4.8 3.4 1.6 0.2]\n",
      " [4.8 3.4 1.9 0.2]\n",
      " [4.7 3.2 1.6 0.2]\n",
      " [4.8 3.1 1.6 0.2]\n",
      " [4.9 2.4 3.3 1. ]\n",
      " [4.9 2.5 4.5 1.7]]\n"
     ]
    }
   ],
   "source": [
    "import numpy as np\n",
    "\n",
    "url = 'https://archive.ics.uci.edu/ml/machine-learning-databases/iris/iris.data'\n",
    "iris_2d = np.genfromtxt(url, delimiter=',', dtype='float', usecols=[0,1,2,3])\n",
    "\n",
    "filtered_rows = iris_2d[(iris_2d[:, 2] > 1.5) & (iris_2d[:, 0] < 5.0)]\n",
    "\n",
    "print(\"Filtered Rows:\\n\", filtered_rows)\n"
   ]
  },
  {
   "cell_type": "markdown",
   "id": "8391b3fa",
   "metadata": {},
   "source": [
    "### Pandas questions "
   ]
  },
  {
   "cell_type": "markdown",
   "id": "343c650b",
   "metadata": {},
   "source": [
    "#### Q1. From df filter the 'Manufacturer', 'Model' and 'Type' for every 20th row starting from 1st (row 0)."
   ]
  },
  {
   "cell_type": "code",
   "execution_count": 9,
   "id": "b9e6d9e8",
   "metadata": {},
   "outputs": [
    {
     "name": "stdout",
     "output_type": "stream",
     "text": [
      "   Manufacturer    Model     Type\n",
      "0         Acura  Integra    Small\n",
      "20     Chrysler  LeBaron  Compact\n",
      "40        Honda  Prelude   Sporty\n",
      "60      Mercury   Cougar  Midsize\n",
      "80       Subaru   Loyale    Small\n"
     ]
    }
   ],
   "source": [
    "import pandas as pd\n",
    "\n",
    "df = pd.read_csv('https://raw.githubusercontent.com/selva86/datasets/master/Cars93_miss.csv')\n",
    "\n",
    "result = df.loc[::20, ['Manufacturer', 'Model', 'Type']]\n",
    "print(result)\n"
   ]
  },
  {
   "cell_type": "markdown",
   "id": "ebcafb65",
   "metadata": {},
   "source": [
    "#### Q2. Replace missing values in Min.Price and Max.Price columns with their respective mean.\n",
    "\n",
    "```\n",
    "df = pd.read_csv('https://raw.githubusercontent.com/selva86/datasets/master/Cars93_miss.csv')\n",
    "```"
   ]
  },
  {
   "cell_type": "code",
   "execution_count": 10,
   "id": "c18dea7e",
   "metadata": {},
   "outputs": [
    {
     "name": "stdout",
     "output_type": "stream",
     "text": [
      "   Min.Price  Max.Price\n",
      "0  12.900000  18.800000\n",
      "1  29.200000  38.700000\n",
      "2  25.900000  32.300000\n",
      "3  17.118605  44.600000\n",
      "4  17.118605  21.459091\n"
     ]
    }
   ],
   "source": [
    "df = pd.read_csv('https://raw.githubusercontent.com/selva86/datasets/master/Cars93_miss.csv')\n",
    "\n",
    "df['Min.Price'].fillna(df['Min.Price'].mean(), inplace=True)\n",
    "df['Max.Price'].fillna(df['Max.Price'].mean(), inplace=True)\n",
    "print(df[['Min.Price', 'Max.Price']].head())\n"
   ]
  },
  {
   "cell_type": "markdown",
   "id": "6dcc3730",
   "metadata": {},
   "source": [
    "#### Q3.How to get the rows of a dataframe with row sum > 100?"
   ]
  },
  {
   "cell_type": "code",
   "execution_count": 27,
   "id": "30faa158",
   "metadata": {},
   "outputs": [
    {
     "name": "stdout",
     "output_type": "stream",
     "text": [
      "    0   1   2   3\n",
      "3  10  34  36  39\n",
      "5  32  32  23  20\n",
      "6  27  32  23  36\n"
     ]
    }
   ],
   "source": [
    "import numpy as np\n",
    "\n",
    "df = pd.DataFrame(np.random.randint(10, 40, 60).reshape(-1, 4))\n",
    "\n",
    "result = df[df.sum(axis=1) > 100]\n",
    "print(result)\n"
   ]
  },
  {
   "cell_type": "code",
   "execution_count": null,
   "id": "7535b1e4",
   "metadata": {},
   "outputs": [],
   "source": []
  }
 ],
 "metadata": {
  "kernelspec": {
   "display_name": "Python 3 (ipykernel)",
   "language": "python",
   "name": "python3"
  },
  "language_info": {
   "codemirror_mode": {
    "name": "ipython",
    "version": 3
   },
   "file_extension": ".py",
   "mimetype": "text/x-python",
   "name": "python",
   "nbconvert_exporter": "python",
   "pygments_lexer": "ipython3",
   "version": "3.9.6"
  }
 },
 "nbformat": 4,
 "nbformat_minor": 5
}
