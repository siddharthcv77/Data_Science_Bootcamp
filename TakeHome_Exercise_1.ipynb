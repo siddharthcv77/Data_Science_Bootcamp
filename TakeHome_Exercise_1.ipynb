{
 "cells": [
  {
   "cell_type": "markdown",
   "metadata": {},
   "source": [
    "Ques1: Display Fibonacci Series upto 10 terms"
   ]
  },
  {
   "cell_type": "code",
   "execution_count": 1,
   "metadata": {},
   "outputs": [
    {
     "name": "stdout",
     "output_type": "stream",
     "text": [
      "0 1 1 2 3 5 8 13 21 34 "
     ]
    }
   ],
   "source": [
    "a = 0\n",
    "b = 1\n",
    "n = 10\n",
    "print(a,end=\" \")\n",
    "print(b,end=\" \")\n",
    "for i in range(n-2):\n",
    "    print(a+b,end=\" \")\n",
    "    temp = b\n",
    "    b = a+b\n",
    "    a = temp"
   ]
  },
  {
   "cell_type": "markdown",
   "metadata": {},
   "source": [
    "Ques2: Display numbers at the odd indices of a list"
   ]
  },
  {
   "cell_type": "code",
   "execution_count": 2,
   "metadata": {},
   "outputs": [
    {
     "name": "stdout",
     "output_type": "stream",
     "text": [
      "[1, 3, 5, 7, 9]\n"
     ]
    }
   ],
   "source": [
    "lst = [1,2,3,4,5,6,7,8,9,10]\n",
    "print(lst[::2])"
   ]
  },
  {
   "cell_type": "markdown",
   "metadata": {},
   "source": [
    "Ques3: Print a list in reverse order"
   ]
  },
  {
   "cell_type": "code",
   "execution_count": 3,
   "metadata": {},
   "outputs": [
    {
     "name": "stdout",
     "output_type": "stream",
     "text": [
      "[10, 9, 8, 7, 6, 5, 4, 3, 2, 1]\n"
     ]
    }
   ],
   "source": [
    "lst = [1,2,3,4,5,6,7,8,9,10]\n",
    "print(lst[::-1])"
   ]
  },
  {
   "cell_type": "markdown",
   "metadata": {},
   "source": [
    "Ques4: Your task is to count the number of different words in this text"
   ]
  },
  {
   "cell_type": "code",
   "execution_count": 4,
   "metadata": {},
   "outputs": [
    {
     "data": {
      "text/plain": [
       "59"
      ]
     },
     "execution_count": 4,
     "metadata": {},
     "output_type": "execute_result"
    }
   ],
   "source": [
    "string = \"\"\"\n",
    "ChatGPT has created this text to provide tips on creating interesting paragraphs. \n",
    "First, start with a clear topic sentence that introduces the main idea. \n",
    "Then, support the topic sentence with specific details, examples, and evidence.\n",
    "Vary the sentence length and structure to keep the reader engaged.\n",
    "Finally, end with a strong concluding sentence that summarizes the main points.\n",
    "Remember, practice makes perfect!\n",
    "\"\"\"\n",
    "words_list = string.split(\" \")\n",
    "len(words_list)"
   ]
  },
  {
   "cell_type": "markdown",
   "metadata": {},
   "source": [
    "Ques5: Write a function that takes a word as an argument and returns the number of vowels in the word"
   ]
  },
  {
   "cell_type": "code",
   "execution_count": 5,
   "metadata": {},
   "outputs": [
    {
     "name": "stdout",
     "output_type": "stream",
     "text": [
      "5\n"
     ]
    }
   ],
   "source": [
    "def count_vowels(word):\n",
    "    vowels = ['a','e','i','o','u']\n",
    "    count = 0\n",
    "    for letter in word:\n",
    "        if(letter in vowels):\n",
    "            count = count + 1\n",
    "    return count\n",
    "word = \"aeroplane\"\n",
    "print(count_vowels(word))"
   ]
  },
  {
   "cell_type": "markdown",
   "metadata": {},
   "source": [
    "Ques6: Iterate through the following list of animals and print each one in all caps."
   ]
  },
  {
   "cell_type": "code",
   "execution_count": 6,
   "metadata": {},
   "outputs": [
    {
     "name": "stdout",
     "output_type": "stream",
     "text": [
      "TIGER ELEPHANT MONKEY ZEBRA PANTHER "
     ]
    }
   ],
   "source": [
    "animals=['tiger', 'elephant', 'monkey', 'zebra', 'panther']\n",
    "for word in animals:\n",
    "    word = word.upper()\n",
    "    print(word,end=\" \")"
   ]
  },
  {
   "cell_type": "markdown",
   "metadata": {},
   "source": [
    "Ques7: Iterate from 1 to 15, printing whether the number is odd or even"
   ]
  },
  {
   "cell_type": "code",
   "execution_count": 7,
   "metadata": {},
   "outputs": [
    {
     "name": "stdout",
     "output_type": "stream",
     "text": [
      "1  is odd\n",
      "2  is even\n",
      "3  is odd\n",
      "4  is even\n",
      "5  is odd\n",
      "6  is even\n",
      "7  is odd\n",
      "8  is even\n",
      "9  is odd\n",
      "10  is even\n",
      "11  is odd\n",
      "12  is even\n",
      "13  is odd\n",
      "14  is even\n",
      "15  is odd\n"
     ]
    }
   ],
   "source": [
    "for i in range(1,16):\n",
    "    if(i%2 == 0):\n",
    "        print(i,\" is even\")\n",
    "    else:\n",
    "        print(i,\" is odd\")"
   ]
  },
  {
   "cell_type": "markdown",
   "metadata": {},
   "source": [
    "Ques8: Take two integers as input from user and return the sum"
   ]
  },
  {
   "cell_type": "code",
   "execution_count": 8,
   "metadata": {},
   "outputs": [
    {
     "name": "stdout",
     "output_type": "stream",
     "text": [
      "Enter the first integer: 23\n",
      "Enter the second integer: 14\n",
      "sum =  37\n"
     ]
    }
   ],
   "source": [
    "num1 = int(input(\"Enter the first integer: \"))\n",
    "num2 = int(input(\"Enter the second integer: \"))\n",
    "int_sum = num1 + num2\n",
    "print(\"sum = \",int_sum)"
   ]
  },
  {
   "cell_type": "code",
   "execution_count": null,
   "metadata": {},
   "outputs": [],
   "source": []
  }
 ],
 "metadata": {
  "kernelspec": {
   "display_name": "Python 3 (ipykernel)",
   "language": "python",
   "name": "python3"
  },
  "language_info": {
   "codemirror_mode": {
    "name": "ipython",
    "version": 3
   },
   "file_extension": ".py",
   "mimetype": "text/x-python",
   "name": "python",
   "nbconvert_exporter": "python",
   "pygments_lexer": "ipython3",
   "version": "3.11.5"
  }
 },
 "nbformat": 4,
 "nbformat_minor": 4
}
